{
  "nbformat": 4,
  "nbformat_minor": 0,
  "metadata": {
    "colab": {
      "provenance": [],
      "authorship_tag": "ABX9TyNMHHunXuC4xGHBM0K7hUSv",
      "include_colab_link": true
    },
    "kernelspec": {
      "name": "python3",
      "display_name": "Python 3"
    },
    "language_info": {
      "name": "python"
    }
  },
  "cells": [
    {
      "cell_type": "markdown",
      "metadata": {
        "id": "view-in-github",
        "colab_type": "text"
      },
      "source": [
        "<a href=\"https://colab.research.google.com/github/AndreBrusco/graph-pathfinding-algorithms/blob/feature%2Fcaminho-minimo/floyd_warshall.ipynb\" target=\"_parent\"><img src=\"https://colab.research.google.com/assets/colab-badge.svg\" alt=\"Open In Colab\"/></a>"
      ]
    },
    {
      "cell_type": "markdown",
      "source": [
        "#Exemplo de Sala de Aula: Floyd - Warshall"
      ],
      "metadata": {
        "id": "x8kMXi96CjaX"
      }
    },
    {
      "cell_type": "code",
      "execution_count": 3,
      "metadata": {
        "colab": {
          "base_uri": "https://localhost:8080/"
        },
        "id": "FLM2QeM3CD-J",
        "outputId": "bb8e43c1-c1bd-45a1-bd31-9f13ac7e1a69"
      },
      "outputs": [
        {
          "output_type": "stream",
          "name": "stdout",
          "text": [
            "\n",
            "Passo 0:\n",
            "Matriz de Distâncias (D):\n",
            "     A    B    C    D\n",
            "A  0.0  2.0    ∞  3.0\n",
            "B  3.0  0.0  2.0  6.0\n",
            "C    ∞    ∞  0.0  4.0\n",
            "D -2.0  6.0    ∞  0.0\n",
            "\n",
            "Matriz de Predecessores (T):\n",
            "   A  B  C  D\n",
            "A  A  A  -  A\n",
            "B  B  B  B  B\n",
            "C  -  -  C  C\n",
            "D  D  D  -  D\n",
            "\n",
            "Passo 1:\n",
            "Matriz de Distâncias (D):\n",
            "     A    B    C    D\n",
            "A  0.0  2.0    ∞  3.0\n",
            "B  3.0  0.0  2.0  6.0\n",
            "C    ∞    ∞  0.0  4.0\n",
            "D -2.0  0.0    ∞  0.0\n",
            "\n",
            "Matriz de Predecessores (T):\n",
            "   A  B  C  D\n",
            "A  A  A  -  A\n",
            "B  B  B  B  B\n",
            "C  -  -  C  C\n",
            "D  D  A  -  D\n",
            "\n",
            "Passo 2:\n",
            "Matriz de Distâncias (D):\n",
            "     A    B    C    D\n",
            "A  0.0  2.0  4.0  3.0\n",
            "B  3.0  0.0  2.0  6.0\n",
            "C    ∞    ∞  0.0  4.0\n",
            "D -2.0  0.0  2.0  0.0\n",
            "\n",
            "Matriz de Predecessores (T):\n",
            "   A  B  C  D\n",
            "A  A  A  B  A\n",
            "B  B  B  B  B\n",
            "C  -  -  C  C\n",
            "D  D  A  B  D\n",
            "\n",
            "Passo 3:\n",
            "Matriz de Distâncias (D):\n",
            "     A    B    C    D\n",
            "A  0.0  2.0  4.0  3.0\n",
            "B  3.0  0.0  2.0  6.0\n",
            "C    ∞    ∞  0.0  4.0\n",
            "D -2.0  0.0  2.0  0.0\n",
            "\n",
            "Matriz de Predecessores (T):\n",
            "   A  B  C  D\n",
            "A  A  A  B  A\n",
            "B  B  B  B  B\n",
            "C  -  -  C  C\n",
            "D  D  A  B  D\n",
            "\n",
            "Passo 4:\n",
            "Matriz de Distâncias (D):\n",
            "     A    B    C    D\n",
            "A  0.0  2.0  4.0  3.0\n",
            "B  3.0  0.0  2.0  6.0\n",
            "C  2.0  4.0  0.0  4.0\n",
            "D -2.0  0.0  2.0  0.0\n",
            "\n",
            "Matriz de Predecessores (T):\n",
            "   A  B  C  D\n",
            "A  A  A  B  A\n",
            "B  B  B  B  B\n",
            "C  D  A  C  C\n",
            "D  D  A  B  D\n",
            "\n",
            "Caminho mínimo de C para B:\n",
            "C → D → A → B\n",
            "Distância mínima de C para B: 4.0\n"
          ]
        }
      ],
      "source": [
        "import numpy as np\n",
        "import pandas as pd\n",
        "\n",
        "INF = float('inf')\n",
        "vertices = ['A', 'B', 'C', 'D']\n",
        "W = [\n",
        "    [0,   2,   INF, 3],\n",
        "    [3,   0,   2,   6],\n",
        "    [INF, INF, 0,   4],\n",
        "    [-2,  6,   INF, 0]\n",
        "]\n",
        "\n",
        "n = len(W)\n",
        "D = np.array(W, dtype=float)\n",
        "T = [[None if i != j and W[i][j] == INF else i for j in range(n)] for i in range(n)]\n",
        "\n",
        "# Função auxiliar para imprimir D e T de forma legível\n",
        "def print_step(k, D, T):\n",
        "    print(f\"\\nPasso {k}:\")\n",
        "    df_D = pd.DataFrame(D, columns=vertices, index=vertices)\n",
        "    print(\"Matriz de Distâncias (D):\")\n",
        "    print(df_D.to_string(float_format=lambda x: \"∞\" if x == INF else f\"{x:4.1f}\"))\n",
        "\n",
        "    print(\"\\nMatriz de Predecessores (T):\")\n",
        "    df_T = pd.DataFrame([[vertices[t] if t is not None else \"-\" for t in row] for row in T], columns=vertices, index=vertices)\n",
        "    print(df_T)\n",
        "\n",
        "# Mostrar matriz inicial\n",
        "print_step(0, D, T)\n",
        "\n",
        "# Floyd-Warshall :\n",
        "for k in range(n):\n",
        "    for i in range(n):\n",
        "        for j in range(n):\n",
        "            if D[i][k] + D[k][j] < D[i][j]:\n",
        "                D[i][j] = D[i][k] + D[k][j]\n",
        "                T[i][j] = T[k][j]\n",
        "    print_step(k+1, D, T)\n",
        "\n",
        "\n"
      ]
    },
    {
      "cell_type": "markdown",
      "source": [
        "#Calculadora de Distâncias:"
      ],
      "metadata": {
        "id": "4D5UjPkLCwAf"
      }
    },
    {
      "cell_type": "code",
      "source": [
        "# Caminho mínimo e distância entre C → B\n",
        "def reconstruct_path(u, v, T):\n",
        "    if D[u][v] == INF:\n",
        "        return None\n",
        "    path = [v]\n",
        "    while v != u:\n",
        "        v = T[u][v]\n",
        "        path.append(v)\n",
        "    return list(reversed(path))\n",
        "\n",
        "def get_distance(u_label, v_label):\n",
        "    u = vertices.index(u_label)\n",
        "    v = vertices.index(v_label)\n",
        "    distance = D[u][v]\n",
        "    if distance == INF:\n",
        "        return f\"Não há caminho de {u_label} para {v_label}.\"\n",
        "    else:\n",
        "        return f\"Distância mínima de {u_label} para {v_label}: {distance}\"\n",
        "\n",
        "# Exibir caminho mínimo de C para B\n",
        "path_indices = reconstruct_path(2, 1, T)\n",
        "path = [vertices[i] for i in path_indices]\n",
        "print(\"\\nCaminho mínimo de C para B:\")\n",
        "print(\" → \".join(path))\n",
        "print(get_distance('C', 'B'))"
      ],
      "metadata": {
        "colab": {
          "base_uri": "https://localhost:8080/"
        },
        "id": "79L0BiRrCubP",
        "outputId": "4d8223eb-9d5d-48da-b485-4ce3121d36fb"
      },
      "execution_count": 4,
      "outputs": [
        {
          "output_type": "stream",
          "name": "stdout",
          "text": [
            "\n",
            "Caminho mínimo de C para B:\n",
            "C → D → A → B\n",
            "Distância mínima de C para B: 4.0\n"
          ]
        }
      ]
    }
  ]
}