{
 "cells": [
  {
   "cell_type": "markdown",
   "id": "47887767",
   "metadata": {},
   "source": [
    "# Algoritmo de Floyd-Warshall - Visualização Passo a Passo"
   ]
  },
  {
   "cell_type": "markdown",
   "id": "f142a84d",
   "metadata": {},
   "source": [
    "\n",
    "Este notebook apresenta a aplicação do algoritmo de **Floyd-Warshall** para encontrar o custo mínimo entre todos os pares de vértices em um grafo direcionado com pesos.\n",
    "\n",
    "A cada passo, o algoritmo considera um novo vértice intermediário `k` e atualiza a matriz de distâncias `D` com os menores caminhos possíveis.\n"
   ]
  },
  {
   "cell_type": "code",
   "execution_count": null,
   "id": "f0574398",
   "metadata": {},
   "outputs": [],
   "source": [
    "\n",
    "import numpy as np\n",
    "import matplotlib.pyplot as plt\n",
    "import networkx as nx\n",
    "\n",
    "# Definições iniciais\n",
    "nodes = [\"A\", \"B\", \"C\", \"D\"]\n",
    "index = {name: i for i, name in enumerate(nodes)}\n",
    "n = len(nodes)\n",
    "inf = float('inf')\n",
    "\n",
    "# Matriz de pesos (adjacência)\n",
    "W = np.array([\n",
    "    [0,     3,     inf,   7],\n",
    "    [8,     0,     2,     inf],\n",
    "    [5,     inf,   0,     1],\n",
    "    [2,     inf,   inf,   0]\n",
    "], dtype=float)\n",
    "\n",
    "# Inicialização\n",
    "D = W.copy()\n",
    "steps = [D.copy()]\n",
    "\n",
    "# Floyd-Warshall passo a passo\n",
    "for k in range(n):\n",
    "    for i in range(n):\n",
    "        for j in range(n):\n",
    "            D[i][j] = min(D[i][j], D[i][k] + D[k][j])\n",
    "    steps.append(D.copy())\n"
   ]
  },
  {
   "cell_type": "code",
   "execution_count": null,
   "id": "43d99632",
   "metadata": {},
   "outputs": [],
   "source": [
    "\n",
    "# Visualização dos passos com grafos\n",
    "pos = {\"A\": (0, 1), \"B\": (1, 2), \"C\": (2, 1), \"D\": (1, 0)}\n",
    "\n",
    "for step_num, matrix in enumerate(steps):\n",
    "    G = nx.DiGraph()\n",
    "    for i in range(n):\n",
    "        for j in range(n):\n",
    "            if matrix[i][j] != inf and i != j:\n",
    "                G.add_edge(nodes[i], nodes[j], weight=matrix[i][j])\n",
    "\n",
    "    fig, ax = plt.subplots(figsize=(7, 5))\n",
    "    nx.draw(G, pos, with_labels=True, node_color='lightblue', node_size=2000, arrows=True, ax=ax)\n",
    "    labels = nx.get_edge_attributes(G, 'weight')\n",
    "    labels = {k: f\"{v:.0f}\" for k, v in labels.items()}\n",
    "    nx.draw_networkx_edge_labels(G, pos, edge_labels=labels, ax=ax)\n",
    "    ax.set_title(f\"Matriz de Distâncias - Passo {step_num}\")\n",
    "    ax.axis('off')\n",
    "    plt.show()\n"
   ]
  },
  {
   "cell_type": "markdown",
   "id": "8aa82662",
   "metadata": {},
   "source": [
    "\n",
    "## Conclusão\n",
    "\n",
    "A cada iteração, o algoritmo de Floyd-Warshall considera um vértice `k` como possível intermediário para os caminhos entre `i` e `j`, e atualiza a matriz de distâncias se um caminho mais curto for encontrado.\n",
    "\n",
    "A matriz final representa os **custos mínimos entre todos os pares de vértices**.\n"
   ]
  }
 ],
 "metadata": {},
 "nbformat": 4,
 "nbformat_minor": 5
}
